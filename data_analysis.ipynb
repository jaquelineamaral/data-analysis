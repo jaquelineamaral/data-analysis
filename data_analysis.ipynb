{
  "nbformat": 4,
  "nbformat_minor": 0,
  "metadata": {
    "colab": {
      "provenance": [],
      "collapsed_sections": [
        "worYd-IEjejA",
        "zY2yiEi8Fi4l",
        "HFZBdA6jn1zp",
        "umccEBrr-99H"
      ],
      "authorship_tag": "ABX9TyPx4c5XxZSEqJR2NEXt+SpX",
      "include_colab_link": true
    },
    "kernelspec": {
      "name": "python3",
      "display_name": "Python 3"
    },
    "language_info": {
      "name": "python"
    }
  },
  "cells": [
    {
      "cell_type": "markdown",
      "metadata": {
        "id": "view-in-github",
        "colab_type": "text"
      },
      "source": [
        "<a href=\"https://colab.research.google.com/github/jaquelineamaral/data-analysis/blob/main/data_analysis.ipynb\" target=\"_parent\"><img src=\"https://colab.research.google.com/assets/colab-badge.svg\" alt=\"Open In Colab\"/></a>"
      ]
    },
    {
      "cell_type": "markdown",
      "source": [
        "### Tipo de Informação\n",
        "Váriaveis podem armazenar dados de diferentes tipos e diferente tipos podem fazer coisas diferentes:\n",
        "\n",
        "\n",
        "1.   Text type: *str*\n",
        "2.   Numeric types: *int, float, complex*\n",
        "3.   Sequence types: *list, tuple, range*\n",
        "4.   Mapping type: *dict*\n",
        "5.   Set types: *set, frozenset*\n",
        "6.   Boolean type: *bool*\n",
        "7.   Binary type: *bytes, bytearray, memoryview*\n",
        "\n",
        "\n",
        "\n"
      ],
      "metadata": {
        "id": "pS8TUEt-eIhr"
      }
    },
    {
      "cell_type": "markdown",
      "source": [
        "### Fatiamento de String\n",
        "Podemos acessar posição das *Strings* utilizando colchetes.\n",
        "String [posição inicial: posição final]\n",
        "\n"
      ],
      "metadata": {
        "id": "worYd-IEjejA"
      }
    },
    {
      "cell_type": "code",
      "source": [
        "my_string = 'Hello World'\n",
        "\n",
        "my_string[-10:-5]"
      ],
      "metadata": {
        "colab": {
          "base_uri": "https://localhost:8080/",
          "height": 35
        },
        "id": "VD9AiEykkLUl",
        "outputId": "3e2afa96-8ec2-4c8e-e3ee-745d84e6613f"
      },
      "execution_count": null,
      "outputs": [
        {
          "output_type": "execute_result",
          "data": {
            "text/plain": [
              "'ello '"
            ],
            "application/vnd.google.colaboratory.intrinsic+json": {
              "type": "string"
            }
          },
          "metadata": {},
          "execution_count": 2
        }
      ]
    },
    {
      "cell_type": "markdown",
      "source": [
        "###Datetime"
      ],
      "metadata": {
        "id": "zY2yiEi8Fi4l"
      }
    },
    {
      "cell_type": "code",
      "source": [
        "import datetime"
      ],
      "metadata": {
        "id": "9iMsl2vSFqR6"
      },
      "execution_count": null,
      "outputs": []
    },
    {
      "cell_type": "code",
      "source": [
        "data_antiga = datetime.date(2024, 6, 20)\n",
        "\n",
        "data_atual = datetime.date(2025, 2, 3)\n",
        "\n",
        "print((data_atual - data_antiga).days)"
      ],
      "metadata": {
        "id": "sRUuA5EFGFT7"
      },
      "execution_count": null,
      "outputs": []
    },
    {
      "cell_type": "code",
      "source": [
        "dias = 60\n",
        "data_atual + datetime.timedelta(dias)"
      ],
      "metadata": {
        "colab": {
          "base_uri": "https://localhost:8080/"
        },
        "id": "kYyPJsH1IKv_",
        "outputId": "ca223817-1db1-40c1-f074-c84b61b7be79"
      },
      "execution_count": null,
      "outputs": [
        {
          "output_type": "execute_result",
          "data": {
            "text/plain": [
              "datetime.date(2025, 4, 4)"
            ]
          },
          "metadata": {},
          "execution_count": 13
        }
      ]
    },
    {
      "cell_type": "markdown",
      "source": [
        "###Statistics\n"
      ],
      "metadata": {
        "id": "HFZBdA6jn1zp"
      }
    },
    {
      "cell_type": "code",
      "source": [
        "import statistics"
      ],
      "metadata": {
        "id": "DrGsRoNLn-fN"
      },
      "execution_count": null,
      "outputs": []
    },
    {
      "cell_type": "code",
      "source": [
        "lista = [12, 15, 28, 56, 78, 78, 80]"
      ],
      "metadata": {
        "id": "cpydyPssoHYF"
      },
      "execution_count": null,
      "outputs": []
    },
    {
      "cell_type": "code",
      "source": [
        "# Calcular média\n",
        "sum(lista) / len(lista)\n",
        "\n",
        "statistics.mean(lista)"
      ],
      "metadata": {
        "colab": {
          "base_uri": "https://localhost:8080/"
        },
        "id": "13wUqvyloQ1i",
        "outputId": "01bb6746-284f-40a6-afd9-40b5a9cce784"
      },
      "execution_count": null,
      "outputs": [
        {
          "output_type": "execute_result",
          "data": {
            "text/plain": [
              "49.57142857142857"
            ]
          },
          "metadata": {},
          "execution_count": 11
        }
      ]
    },
    {
      "cell_type": "code",
      "source": [
        "# Mediana (valor que está no meio)\n",
        "statistics.median(lista)"
      ],
      "metadata": {
        "colab": {
          "base_uri": "https://localhost:8080/"
        },
        "id": "5lUKbsKBpZPV",
        "outputId": "4f32fd86-ac68-4e64-a42b-6d6193a20070"
      },
      "execution_count": null,
      "outputs": [
        {
          "output_type": "execute_result",
          "data": {
            "text/plain": [
              "56"
            ]
          },
          "metadata": {},
          "execution_count": 12
        }
      ]
    },
    {
      "cell_type": "code",
      "source": [
        "# Moda\n",
        "statistics.mode(lista)"
      ],
      "metadata": {
        "colab": {
          "base_uri": "https://localhost:8080/"
        },
        "id": "j6WehQeep4Kg",
        "outputId": "d3bc9b78-7bb4-4f0d-a6c3-5d6009e20f64"
      },
      "execution_count": null,
      "outputs": [
        {
          "output_type": "execute_result",
          "data": {
            "text/plain": [
              "78"
            ]
          },
          "metadata": {},
          "execution_count": 18
        }
      ]
    },
    {
      "cell_type": "markdown",
      "source": [
        "###Continue\n",
        "\n",
        "É usado dentro de *loops* (*for* e *while*) para interromper a iteração atual e continuar com a próxima iteração do loop.\n",
        "Qualquer instrução após o *continue* não será executada."
      ],
      "metadata": {
        "id": "umccEBrr-99H"
      }
    },
    {
      "cell_type": "code",
      "source": [
        "pedidos = [\n",
        "    {\"id\": 1, \"status\": \"entregue\", \"valor\": 100.0},\n",
        "    {\"id\": 2, \"status\": \"cancelado\", \"valor\": 200.0},\n",
        "    {\"id\": 3, \"status\": \"entregue\", \"valor\": 150.0},\n",
        "    {\"id\": 4, \"status\": \"cancelado\", \"valor\": 50.0},\n",
        "    {\"id\": 5, \"status\": \"entregue\", \"valor\": 300.0}\n",
        "]\n",
        "\n",
        "total_entregue = 0\n",
        "pedidos_entrgues = []\n",
        "\n",
        "for pedido in pedidos:\n",
        "    if pedido[\"status\"] == \"cancelado\":\n",
        "        continue  # Interrompe a iteração atual e continua com a próxima iteração do loop\n",
        "\n",
        "    pedidos_entrgues.append(pedido)\n",
        "    total_entregue += pedido[\"valor\"]\n",
        "\n",
        "print(f\"Total de vendas entregues: {total_entregue}\")\n",
        "print(f\"Pedidos entregues: {pedidos_entrgues}\")"
      ],
      "metadata": {
        "colab": {
          "base_uri": "https://localhost:8080/"
        },
        "id": "gb_Fpsfg_kVc",
        "outputId": "e205fe6c-2d54-4d58-f480-89e044d9e9df"
      },
      "execution_count": null,
      "outputs": [
        {
          "output_type": "stream",
          "name": "stdout",
          "text": [
            "Total de vendas entregues: 550.0\n",
            "Pedidos entregues: [{'id': 1, 'status': 'entregue', 'valor': 100.0}, {'id': 3, 'status': 'entregue', 'valor': 150.0}, {'id': 5, 'status': 'entregue', 'valor': 300.0}]\n"
          ]
        }
      ]
    },
    {
      "cell_type": "markdown",
      "source": [
        "###Função Lambda\n",
        "É uma pequena função anônima e pode receber qualquer número de argumento, mas pode ter apenas uma expressão.\n"
      ],
      "metadata": {
        "id": "pc3NFCdleAJ5"
      }
    },
    {
      "cell_type": "code",
      "source": [
        "soma = lambda valor: valor + 10\n",
        "\n",
        "soma(5)"
      ],
      "metadata": {
        "colab": {
          "base_uri": "https://localhost:8080/"
        },
        "id": "HNZ8_n6Heree",
        "outputId": "21e41e83-2e40-4173-9380-22a61675c62e"
      },
      "execution_count": 1,
      "outputs": [
        {
          "output_type": "execute_result",
          "data": {
            "text/plain": [
              "15"
            ]
          },
          "metadata": {},
          "execution_count": 1
        }
      ]
    },
    {
      "cell_type": "code",
      "source": [
        "pessoas = [\n",
        "    {\"nome\": \"Ana\", \"idade\": 28, \"cidade\": \"Juiz de Fora\"},\n",
        "    {\"nome\": \"João\", \"idade\": 34, \"cidade\": \"Rio de Janeiro\"},\n",
        "    {\"nome\": \"Carlos\", \"idade\": 25, \"cidade\": \"São Paulo\"},\n",
        "    {\"nome\": \"Daniela\", \"idade\": 32, \"cidade\": \"Curitiba\"},\n",
        "    {\"nome\": \"Edu\", \"idade\": 22, \"cidade\": \"Juiz de Fora\"}\n",
        "]\n",
        "\n",
        "# Filtrar as pessoas que moram em Minas e ordenar por idade\n",
        "\n",
        "# Função lambda verifica se a cidade da pessoa (pessoa[\"cidade\"]) é \"Juiz de Fora\"\n",
        "pessoas_minas = filter(lambda pessoa: pessoa[\"cidade\"] == \"Juiz de Fora\", pessoas)\n",
        "\n",
        "# Função lambda retorna a idade da pessoa\n",
        "pessoas_ordenadas = sorted(pessoas_minas, key = lambda pessoa: pessoa[\"idade\"])\n",
        "\n",
        "# Retorno do Filter e Sorted é um interador\n",
        "for pessoa in pessoas_ordenadas:\n",
        "    print(f\"Nome: {pessoa['nome']}, Idade: {pessoa['idade']}, Cidade: {pessoa['cidade']}\")\n",
        "\n"
      ],
      "metadata": {
        "colab": {
          "base_uri": "https://localhost:8080/"
        },
        "id": "jAmfomTkiPEO",
        "outputId": "2a914c5c-1cba-45dc-ea41-b00c88f47b68"
      },
      "execution_count": 12,
      "outputs": [
        {
          "output_type": "stream",
          "name": "stdout",
          "text": [
            "Nome: Edu, Idade: 22, Cidade: Juiz de Fora\n",
            "Nome: Ana, Idade: 28, Cidade: Juiz de Fora\n"
          ]
        }
      ]
    }
  ]
}